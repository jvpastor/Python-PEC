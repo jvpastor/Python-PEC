{
 "cells": [
  {
   "cell_type": "markdown",
   "metadata": {},
   "source": [
    "# PEC: Bitcoin y Etherium"
   ]
  },
  {
   "cell_type": "markdown",
   "metadata": {},
   "source": [
    "## Carga de los datasets"
   ]
  },
  {
   "cell_type": "markdown",
   "metadata": {},
   "source": [
    "En primer lugar, cargamos las librerías y los datasets correspondientes a la cotización de los últimos seis meses de las criptomonedas bitcoin y ether. Hemos examinado los datasets y hemos comprobado que no hayan missing values y la separación de los datos."
   ]
  },
  {
   "cell_type": "code",
   "execution_count": 3,
   "metadata": {
    "collapsed": true
   },
   "outputs": [],
   "source": [
    "import matplotlib.pyplot as plt\n",
    "import numpy as np\n",
    "import pandas as pd\n",
    "from scipy import stats"
   ]
  },
  {
   "cell_type": "code",
   "execution_count": 4,
   "metadata": {
    "collapsed": true
   },
   "outputs": [],
   "source": [
    "bitcoin = pd.read_csv('bitflyerJPY_1-min_data_2017-07-04_to_2018-01-08.csv', sep = ',')\n",
    "etherium = pd.read_csv('export-EtherPrice.csv', sep=',')\n"
   ]
  },
  {
   "cell_type": "markdown",
   "metadata": {},
   "source": [
    "Aquí mostramos las cabeceras y colas con sus cinco primeras y últimas filas de los respectivos datasets.\n",
    "Como categorías en el dataset de la cotización del ether tenemos la fecha en formato (mm/dd/yyyy) y Unix time stamp,  y su respectiva cotización en el momento.\n",
    "En el caso del dataset de la cotización del bitcoin tenemos la fecha en formato Unix time stamp, el cotizaciones de apertura, máximo, mínimo y cierre del momento, el volumen de bitcoins, el volumen de fracciones de bitcoin y el precio que tienen en el mercado.\n",
    "Como podremos observar, hay mucha diferencia entre el número de categorías del dataset del ether con respecto al de bitcoin, por lo que el número del primero condicionará el estudio."
   ]
  },
  {
   "cell_type": "code",
   "execution_count": 5,
   "metadata": {},
   "outputs": [
    {
     "data": {
      "text/html": [
       "<div>\n",
       "<style>\n",
       "    .dataframe thead tr:only-child th {\n",
       "        text-align: right;\n",
       "    }\n",
       "\n",
       "    .dataframe thead th {\n",
       "        text-align: left;\n",
       "    }\n",
       "\n",
       "    .dataframe tbody tr th {\n",
       "        vertical-align: top;\n",
       "    }\n",
       "</style>\n",
       "<table border=\"1\" class=\"dataframe\">\n",
       "  <thead>\n",
       "    <tr style=\"text-align: right;\">\n",
       "      <th></th>\n",
       "      <th>Date(UTC)</th>\n",
       "      <th>UnixTimeStamp</th>\n",
       "      <th>Value</th>\n",
       "    </tr>\n",
       "  </thead>\n",
       "  <tbody>\n",
       "    <tr>\n",
       "      <th>0</th>\n",
       "      <td>7/4/2017</td>\n",
       "      <td>1499126400</td>\n",
       "      <td>269.05</td>\n",
       "    </tr>\n",
       "    <tr>\n",
       "      <th>1</th>\n",
       "      <td>7/5/2017</td>\n",
       "      <td>1499212800</td>\n",
       "      <td>266.00</td>\n",
       "    </tr>\n",
       "    <tr>\n",
       "      <th>2</th>\n",
       "      <td>7/6/2017</td>\n",
       "      <td>1499299200</td>\n",
       "      <td>265.88</td>\n",
       "    </tr>\n",
       "    <tr>\n",
       "      <th>3</th>\n",
       "      <td>7/7/2017</td>\n",
       "      <td>1499385600</td>\n",
       "      <td>240.94</td>\n",
       "    </tr>\n",
       "    <tr>\n",
       "      <th>4</th>\n",
       "      <td>7/8/2017</td>\n",
       "      <td>1499472000</td>\n",
       "      <td>245.67</td>\n",
       "    </tr>\n",
       "  </tbody>\n",
       "</table>\n",
       "</div>"
      ],
      "text/plain": [
       "  Date(UTC)  UnixTimeStamp   Value\n",
       "0  7/4/2017     1499126400  269.05\n",
       "1  7/5/2017     1499212800  266.00\n",
       "2  7/6/2017     1499299200  265.88\n",
       "3  7/7/2017     1499385600  240.94\n",
       "4  7/8/2017     1499472000  245.67"
      ]
     },
     "execution_count": 5,
     "metadata": {},
     "output_type": "execute_result"
    }
   ],
   "source": [
    "etherium.head()"
   ]
  },
  {
   "cell_type": "code",
   "execution_count": 6,
   "metadata": {},
   "outputs": [
    {
     "data": {
      "text/html": [
       "<div>\n",
       "<style>\n",
       "    .dataframe thead tr:only-child th {\n",
       "        text-align: right;\n",
       "    }\n",
       "\n",
       "    .dataframe thead th {\n",
       "        text-align: left;\n",
       "    }\n",
       "\n",
       "    .dataframe tbody tr th {\n",
       "        vertical-align: top;\n",
       "    }\n",
       "</style>\n",
       "<table border=\"1\" class=\"dataframe\">\n",
       "  <thead>\n",
       "    <tr style=\"text-align: right;\">\n",
       "      <th></th>\n",
       "      <th>Date(UTC)</th>\n",
       "      <th>UnixTimeStamp</th>\n",
       "      <th>Value</th>\n",
       "    </tr>\n",
       "  </thead>\n",
       "  <tbody>\n",
       "    <tr>\n",
       "      <th>181</th>\n",
       "      <td>1/4/2018</td>\n",
       "      <td>1515024000</td>\n",
       "      <td>944.83</td>\n",
       "    </tr>\n",
       "    <tr>\n",
       "      <th>182</th>\n",
       "      <td>1/5/2018</td>\n",
       "      <td>1515110400</td>\n",
       "      <td>967.13</td>\n",
       "    </tr>\n",
       "    <tr>\n",
       "      <th>183</th>\n",
       "      <td>1/6/2018</td>\n",
       "      <td>1515196800</td>\n",
       "      <td>1006.41</td>\n",
       "    </tr>\n",
       "    <tr>\n",
       "      <th>184</th>\n",
       "      <td>1/7/2018</td>\n",
       "      <td>1515283200</td>\n",
       "      <td>1117.75</td>\n",
       "    </tr>\n",
       "    <tr>\n",
       "      <th>185</th>\n",
       "      <td>1/8/2018</td>\n",
       "      <td>1515369600</td>\n",
       "      <td>1136.11</td>\n",
       "    </tr>\n",
       "  </tbody>\n",
       "</table>\n",
       "</div>"
      ],
      "text/plain": [
       "    Date(UTC)  UnixTimeStamp    Value\n",
       "181  1/4/2018     1515024000   944.83\n",
       "182  1/5/2018     1515110400   967.13\n",
       "183  1/6/2018     1515196800  1006.41\n",
       "184  1/7/2018     1515283200  1117.75\n",
       "185  1/8/2018     1515369600  1136.11"
      ]
     },
     "execution_count": 6,
     "metadata": {},
     "output_type": "execute_result"
    }
   ],
   "source": [
    "etherium.tail()"
   ]
  },
  {
   "cell_type": "code",
   "execution_count": 7,
   "metadata": {},
   "outputs": [
    {
     "data": {
      "text/html": [
       "<div>\n",
       "<style>\n",
       "    .dataframe thead tr:only-child th {\n",
       "        text-align: right;\n",
       "    }\n",
       "\n",
       "    .dataframe thead th {\n",
       "        text-align: left;\n",
       "    }\n",
       "\n",
       "    .dataframe tbody tr th {\n",
       "        vertical-align: top;\n",
       "    }\n",
       "</style>\n",
       "<table border=\"1\" class=\"dataframe\">\n",
       "  <thead>\n",
       "    <tr style=\"text-align: right;\">\n",
       "      <th></th>\n",
       "      <th>Timestamp</th>\n",
       "      <th>Open</th>\n",
       "      <th>High</th>\n",
       "      <th>Low</th>\n",
       "      <th>Close</th>\n",
       "      <th>Volume_(BTC)</th>\n",
       "      <th>Volume_(Currency)</th>\n",
       "      <th>Weighted_Price</th>\n",
       "    </tr>\n",
       "  </thead>\n",
       "  <tbody>\n",
       "    <tr>\n",
       "      <th>0</th>\n",
       "      <td>1499155260</td>\n",
       "      <td>296127</td>\n",
       "      <td>296558</td>\n",
       "      <td>296016</td>\n",
       "      <td>296540</td>\n",
       "      <td>1.158600</td>\n",
       "      <td>3.432441e+05</td>\n",
       "      <td>296257.67168</td>\n",
       "    </tr>\n",
       "    <tr>\n",
       "      <th>1</th>\n",
       "      <td>1499155320</td>\n",
       "      <td>296539</td>\n",
       "      <td>296769</td>\n",
       "      <td>296060</td>\n",
       "      <td>296679</td>\n",
       "      <td>11.115510</td>\n",
       "      <td>3.295332e+06</td>\n",
       "      <td>296462.51372</td>\n",
       "    </tr>\n",
       "    <tr>\n",
       "      <th>2</th>\n",
       "      <td>1499155380</td>\n",
       "      <td>296060</td>\n",
       "      <td>296090</td>\n",
       "      <td>296060</td>\n",
       "      <td>296060</td>\n",
       "      <td>5.527494</td>\n",
       "      <td>1.636491e+06</td>\n",
       "      <td>296063.83615</td>\n",
       "    </tr>\n",
       "    <tr>\n",
       "      <th>3</th>\n",
       "      <td>1499155440</td>\n",
       "      <td>296060</td>\n",
       "      <td>296260</td>\n",
       "      <td>296015</td>\n",
       "      <td>296015</td>\n",
       "      <td>8.414064</td>\n",
       "      <td>2.491620e+06</td>\n",
       "      <td>296125.66780</td>\n",
       "    </tr>\n",
       "    <tr>\n",
       "      <th>4</th>\n",
       "      <td>1499155500</td>\n",
       "      <td>296361</td>\n",
       "      <td>296540</td>\n",
       "      <td>296155</td>\n",
       "      <td>296155</td>\n",
       "      <td>3.993010</td>\n",
       "      <td>1.183292e+06</td>\n",
       "      <td>296340.78573</td>\n",
       "    </tr>\n",
       "  </tbody>\n",
       "</table>\n",
       "</div>"
      ],
      "text/plain": [
       "    Timestamp    Open    High     Low   Close  Volume_(BTC)  \\\n",
       "0  1499155260  296127  296558  296016  296540      1.158600   \n",
       "1  1499155320  296539  296769  296060  296679     11.115510   \n",
       "2  1499155380  296060  296090  296060  296060      5.527494   \n",
       "3  1499155440  296060  296260  296015  296015      8.414064   \n",
       "4  1499155500  296361  296540  296155  296155      3.993010   \n",
       "\n",
       "   Volume_(Currency)  Weighted_Price  \n",
       "0       3.432441e+05    296257.67168  \n",
       "1       3.295332e+06    296462.51372  \n",
       "2       1.636491e+06    296063.83615  \n",
       "3       2.491620e+06    296125.66780  \n",
       "4       1.183292e+06    296340.78573  "
      ]
     },
     "execution_count": 7,
     "metadata": {},
     "output_type": "execute_result"
    }
   ],
   "source": [
    "bitcoin.head()"
   ]
  },
  {
   "cell_type": "code",
   "execution_count": 8,
   "metadata": {},
   "outputs": [
    {
     "data": {
      "text/html": [
       "<div>\n",
       "<style>\n",
       "    .dataframe thead tr:only-child th {\n",
       "        text-align: right;\n",
       "    }\n",
       "\n",
       "    .dataframe thead th {\n",
       "        text-align: left;\n",
       "    }\n",
       "\n",
       "    .dataframe tbody tr th {\n",
       "        vertical-align: top;\n",
       "    }\n",
       "</style>\n",
       "<table border=\"1\" class=\"dataframe\">\n",
       "  <thead>\n",
       "    <tr style=\"text-align: right;\">\n",
       "      <th></th>\n",
       "      <th>Timestamp</th>\n",
       "      <th>Open</th>\n",
       "      <th>High</th>\n",
       "      <th>Low</th>\n",
       "      <th>Close</th>\n",
       "      <th>Volume_(BTC)</th>\n",
       "      <th>Volume_(Currency)</th>\n",
       "      <th>Weighted_Price</th>\n",
       "    </tr>\n",
       "  </thead>\n",
       "  <tbody>\n",
       "    <tr>\n",
       "      <th>266770</th>\n",
       "      <td>1515369360</td>\n",
       "      <td>1944024</td>\n",
       "      <td>1944664</td>\n",
       "      <td>1941113</td>\n",
       "      <td>1941670</td>\n",
       "      <td>4.964308</td>\n",
       "      <td>9.645226e+06</td>\n",
       "      <td>1.942915e+06</td>\n",
       "    </tr>\n",
       "    <tr>\n",
       "      <th>266771</th>\n",
       "      <td>1515369420</td>\n",
       "      <td>1941670</td>\n",
       "      <td>1942000</td>\n",
       "      <td>1941000</td>\n",
       "      <td>1941113</td>\n",
       "      <td>3.153995</td>\n",
       "      <td>6.124083e+06</td>\n",
       "      <td>1.941691e+06</td>\n",
       "    </tr>\n",
       "    <tr>\n",
       "      <th>266772</th>\n",
       "      <td>1515369480</td>\n",
       "      <td>1941725</td>\n",
       "      <td>1943200</td>\n",
       "      <td>1941113</td>\n",
       "      <td>1943200</td>\n",
       "      <td>2.213478</td>\n",
       "      <td>4.299943e+06</td>\n",
       "      <td>1.942618e+06</td>\n",
       "    </tr>\n",
       "    <tr>\n",
       "      <th>266773</th>\n",
       "      <td>1515369540</td>\n",
       "      <td>1943200</td>\n",
       "      <td>1944975</td>\n",
       "      <td>1942000</td>\n",
       "      <td>1944975</td>\n",
       "      <td>14.356733</td>\n",
       "      <td>2.790039e+07</td>\n",
       "      <td>1.943366e+06</td>\n",
       "    </tr>\n",
       "    <tr>\n",
       "      <th>266774</th>\n",
       "      <td>1515369600</td>\n",
       "      <td>1945050</td>\n",
       "      <td>1945200</td>\n",
       "      <td>1942975</td>\n",
       "      <td>1944000</td>\n",
       "      <td>9.499370</td>\n",
       "      <td>1.847038e+07</td>\n",
       "      <td>1.944380e+06</td>\n",
       "    </tr>\n",
       "  </tbody>\n",
       "</table>\n",
       "</div>"
      ],
      "text/plain": [
       "         Timestamp     Open     High      Low    Close  Volume_(BTC)  \\\n",
       "266770  1515369360  1944024  1944664  1941113  1941670      4.964308   \n",
       "266771  1515369420  1941670  1942000  1941000  1941113      3.153995   \n",
       "266772  1515369480  1941725  1943200  1941113  1943200      2.213478   \n",
       "266773  1515369540  1943200  1944975  1942000  1944975     14.356733   \n",
       "266774  1515369600  1945050  1945200  1942975  1944000      9.499370   \n",
       "\n",
       "        Volume_(Currency)  Weighted_Price  \n",
       "266770       9.645226e+06    1.942915e+06  \n",
       "266771       6.124083e+06    1.941691e+06  \n",
       "266772       4.299943e+06    1.942618e+06  \n",
       "266773       2.790039e+07    1.943366e+06  \n",
       "266774       1.847038e+07    1.944380e+06  "
      ]
     },
     "execution_count": 8,
     "metadata": {},
     "output_type": "execute_result"
    }
   ],
   "source": [
    "bitcoin.tail()"
   ]
  },
  {
   "cell_type": "markdown",
   "metadata": {},
   "source": [
    "## Tratamiento de los datasets"
   ]
  },
  {
   "cell_type": "markdown",
   "metadata": {},
   "source": [
    "Ahora procedemos al tratamiento de los datos temporales para poderlos representar gráficamente, primero convertimos el formato unix timestamp a datetime y luego homogeneizamos a un solo dato diario en vez de varios como es el caso del dataset de bitcoin:"
   ]
  },
  {
   "cell_type": "code",
   "execution_count": 9,
   "metadata": {
    "collapsed": true
   },
   "outputs": [],
   "source": [
    "bitcoin.Timestamp = pd.to_datetime(bitcoin.Timestamp, unit='s')\n",
    "etherium.UnixTimeStamp = pd.to_datetime(etherium.UnixTimeStamp, unit='s')"
   ]
  },
  {
   "cell_type": "code",
   "execution_count": 10,
   "metadata": {
    "collapsed": true
   },
   "outputs": [],
   "source": [
    "bitcoin.index = bitcoin.Timestamp"
   ]
  },
  {
   "cell_type": "code",
   "execution_count": 11,
   "metadata": {
    "collapsed": true
   },
   "outputs": [],
   "source": [
    "bitcoin = bitcoin.resample('D').mean()\n",
    "bitcoin_month = bitcoin.resample('M').mean()\n",
    "bitcoin_year = bitcoin.resample('A-DEC').mean()"
   ]
  },
  {
   "cell_type": "markdown",
   "metadata": {},
   "source": [
    "De la siguiente manera quedan las cabeceras y las colas de los datasets:"
   ]
  },
  {
   "cell_type": "markdown",
   "metadata": {},
   "source": [
    "A) Bitcoin:"
   ]
  },
  {
   "cell_type": "code",
   "execution_count": 12,
   "metadata": {},
   "outputs": [
    {
     "data": {
      "text/html": [
       "<div>\n",
       "<style>\n",
       "    .dataframe thead tr:only-child th {\n",
       "        text-align: right;\n",
       "    }\n",
       "\n",
       "    .dataframe thead th {\n",
       "        text-align: left;\n",
       "    }\n",
       "\n",
       "    .dataframe tbody tr th {\n",
       "        vertical-align: top;\n",
       "    }\n",
       "</style>\n",
       "<table border=\"1\" class=\"dataframe\">\n",
       "  <thead>\n",
       "    <tr style=\"text-align: right;\">\n",
       "      <th></th>\n",
       "      <th>Open</th>\n",
       "      <th>High</th>\n",
       "      <th>Low</th>\n",
       "      <th>Close</th>\n",
       "      <th>Volume_(BTC)</th>\n",
       "      <th>Volume_(Currency)</th>\n",
       "      <th>Weighted_Price</th>\n",
       "    </tr>\n",
       "    <tr>\n",
       "      <th>Timestamp</th>\n",
       "      <th></th>\n",
       "      <th></th>\n",
       "      <th></th>\n",
       "      <th></th>\n",
       "      <th></th>\n",
       "      <th></th>\n",
       "      <th></th>\n",
       "    </tr>\n",
       "  </thead>\n",
       "  <tbody>\n",
       "    <tr>\n",
       "      <th>2017-07-04</th>\n",
       "      <td>292200.107404</td>\n",
       "      <td>292317.351408</td>\n",
       "      <td>292049.884254</td>\n",
       "      <td>292186.096976</td>\n",
       "      <td>6.844604</td>\n",
       "      <td>2.000919e+06</td>\n",
       "      <td>292177.556681</td>\n",
       "    </tr>\n",
       "    <tr>\n",
       "      <th>2017-07-05</th>\n",
       "      <td>290574.565972</td>\n",
       "      <td>290665.434722</td>\n",
       "      <td>290465.238889</td>\n",
       "      <td>290564.653472</td>\n",
       "      <td>6.590554</td>\n",
       "      <td>1.913997e+06</td>\n",
       "      <td>290562.675337</td>\n",
       "    </tr>\n",
       "    <tr>\n",
       "      <th>2017-07-06</th>\n",
       "      <td>293191.115972</td>\n",
       "      <td>293264.783333</td>\n",
       "      <td>293108.535417</td>\n",
       "      <td>293180.833333</td>\n",
       "      <td>5.336428</td>\n",
       "      <td>1.564498e+06</td>\n",
       "      <td>293182.524481</td>\n",
       "    </tr>\n",
       "    <tr>\n",
       "      <th>2017-07-07</th>\n",
       "      <td>289703.554167</td>\n",
       "      <td>289802.754167</td>\n",
       "      <td>289580.273611</td>\n",
       "      <td>289680.159722</td>\n",
       "      <td>6.300531</td>\n",
       "      <td>1.825164e+06</td>\n",
       "      <td>289683.612931</td>\n",
       "    </tr>\n",
       "    <tr>\n",
       "      <th>2017-07-08</th>\n",
       "      <td>289184.677083</td>\n",
       "      <td>289272.347222</td>\n",
       "      <td>289090.317361</td>\n",
       "      <td>289173.889583</td>\n",
       "      <td>4.103111</td>\n",
       "      <td>1.185215e+06</td>\n",
       "      <td>289174.397839</td>\n",
       "    </tr>\n",
       "  </tbody>\n",
       "</table>\n",
       "</div>"
      ],
      "text/plain": [
       "                     Open           High            Low          Close  \\\n",
       "Timestamp                                                                \n",
       "2017-07-04  292200.107404  292317.351408  292049.884254  292186.096976   \n",
       "2017-07-05  290574.565972  290665.434722  290465.238889  290564.653472   \n",
       "2017-07-06  293191.115972  293264.783333  293108.535417  293180.833333   \n",
       "2017-07-07  289703.554167  289802.754167  289580.273611  289680.159722   \n",
       "2017-07-08  289184.677083  289272.347222  289090.317361  289173.889583   \n",
       "\n",
       "            Volume_(BTC)  Volume_(Currency)  Weighted_Price  \n",
       "Timestamp                                                    \n",
       "2017-07-04      6.844604       2.000919e+06   292177.556681  \n",
       "2017-07-05      6.590554       1.913997e+06   290562.675337  \n",
       "2017-07-06      5.336428       1.564498e+06   293182.524481  \n",
       "2017-07-07      6.300531       1.825164e+06   289683.612931  \n",
       "2017-07-08      4.103111       1.185215e+06   289174.397839  "
      ]
     },
     "execution_count": 12,
     "metadata": {},
     "output_type": "execute_result"
    }
   ],
   "source": [
    "bitcoin.head()"
   ]
  },
  {
   "cell_type": "code",
   "execution_count": 13,
   "metadata": {},
   "outputs": [
    {
     "data": {
      "text/html": [
       "<div>\n",
       "<style>\n",
       "    .dataframe thead tr:only-child th {\n",
       "        text-align: right;\n",
       "    }\n",
       "\n",
       "    .dataframe thead th {\n",
       "        text-align: left;\n",
       "    }\n",
       "\n",
       "    .dataframe tbody tr th {\n",
       "        vertical-align: top;\n",
       "    }\n",
       "</style>\n",
       "<table border=\"1\" class=\"dataframe\">\n",
       "  <thead>\n",
       "    <tr style=\"text-align: right;\">\n",
       "      <th></th>\n",
       "      <th>Open</th>\n",
       "      <th>High</th>\n",
       "      <th>Low</th>\n",
       "      <th>Close</th>\n",
       "      <th>Volume_(BTC)</th>\n",
       "      <th>Volume_(Currency)</th>\n",
       "      <th>Weighted_Price</th>\n",
       "    </tr>\n",
       "    <tr>\n",
       "      <th>Timestamp</th>\n",
       "      <th></th>\n",
       "      <th></th>\n",
       "      <th></th>\n",
       "      <th></th>\n",
       "      <th></th>\n",
       "      <th></th>\n",
       "      <th></th>\n",
       "    </tr>\n",
       "  </thead>\n",
       "  <tbody>\n",
       "    <tr>\n",
       "      <th>2018-01-04</th>\n",
       "      <td>1.795203e+06</td>\n",
       "      <td>1.796554e+06</td>\n",
       "      <td>1.793848e+06</td>\n",
       "      <td>1.795265e+06</td>\n",
       "      <td>9.553181</td>\n",
       "      <td>1.717916e+07</td>\n",
       "      <td>1.795208e+06</td>\n",
       "    </tr>\n",
       "    <tr>\n",
       "      <th>2018-01-05</th>\n",
       "      <td>1.912410e+06</td>\n",
       "      <td>1.914067e+06</td>\n",
       "      <td>1.910917e+06</td>\n",
       "      <td>1.912514e+06</td>\n",
       "      <td>15.354395</td>\n",
       "      <td>2.943427e+07</td>\n",
       "      <td>1.912520e+06</td>\n",
       "    </tr>\n",
       "    <tr>\n",
       "      <th>2018-01-06</th>\n",
       "      <td>1.963351e+06</td>\n",
       "      <td>1.964521e+06</td>\n",
       "      <td>1.962173e+06</td>\n",
       "      <td>1.963351e+06</td>\n",
       "      <td>5.566129</td>\n",
       "      <td>1.092058e+07</td>\n",
       "      <td>1.963315e+06</td>\n",
       "    </tr>\n",
       "    <tr>\n",
       "      <th>2018-01-07</th>\n",
       "      <td>1.968395e+06</td>\n",
       "      <td>1.969510e+06</td>\n",
       "      <td>1.967284e+06</td>\n",
       "      <td>1.968421e+06</td>\n",
       "      <td>3.969752</td>\n",
       "      <td>7.809143e+06</td>\n",
       "      <td>1.968303e+06</td>\n",
       "    </tr>\n",
       "    <tr>\n",
       "      <th>2018-01-08</th>\n",
       "      <td>1.945050e+06</td>\n",
       "      <td>1.945200e+06</td>\n",
       "      <td>1.942975e+06</td>\n",
       "      <td>1.944000e+06</td>\n",
       "      <td>9.499370</td>\n",
       "      <td>1.847038e+07</td>\n",
       "      <td>1.944380e+06</td>\n",
       "    </tr>\n",
       "  </tbody>\n",
       "</table>\n",
       "</div>"
      ],
      "text/plain": [
       "                    Open          High           Low         Close  \\\n",
       "Timestamp                                                            \n",
       "2018-01-04  1.795203e+06  1.796554e+06  1.793848e+06  1.795265e+06   \n",
       "2018-01-05  1.912410e+06  1.914067e+06  1.910917e+06  1.912514e+06   \n",
       "2018-01-06  1.963351e+06  1.964521e+06  1.962173e+06  1.963351e+06   \n",
       "2018-01-07  1.968395e+06  1.969510e+06  1.967284e+06  1.968421e+06   \n",
       "2018-01-08  1.945050e+06  1.945200e+06  1.942975e+06  1.944000e+06   \n",
       "\n",
       "            Volume_(BTC)  Volume_(Currency)  Weighted_Price  \n",
       "Timestamp                                                    \n",
       "2018-01-04      9.553181       1.717916e+07    1.795208e+06  \n",
       "2018-01-05     15.354395       2.943427e+07    1.912520e+06  \n",
       "2018-01-06      5.566129       1.092058e+07    1.963315e+06  \n",
       "2018-01-07      3.969752       7.809143e+06    1.968303e+06  \n",
       "2018-01-08      9.499370       1.847038e+07    1.944380e+06  "
      ]
     },
     "execution_count": 13,
     "metadata": {},
     "output_type": "execute_result"
    }
   ],
   "source": [
    "bitcoin.tail()"
   ]
  },
  {
   "cell_type": "markdown",
   "metadata": {},
   "source": [
    "B) Ethereum:"
   ]
  },
  {
   "cell_type": "code",
   "execution_count": 14,
   "metadata": {},
   "outputs": [
    {
     "data": {
      "text/html": [
       "<div>\n",
       "<style>\n",
       "    .dataframe thead tr:only-child th {\n",
       "        text-align: right;\n",
       "    }\n",
       "\n",
       "    .dataframe thead th {\n",
       "        text-align: left;\n",
       "    }\n",
       "\n",
       "    .dataframe tbody tr th {\n",
       "        vertical-align: top;\n",
       "    }\n",
       "</style>\n",
       "<table border=\"1\" class=\"dataframe\">\n",
       "  <thead>\n",
       "    <tr style=\"text-align: right;\">\n",
       "      <th></th>\n",
       "      <th>Date(UTC)</th>\n",
       "      <th>UnixTimeStamp</th>\n",
       "      <th>Value</th>\n",
       "    </tr>\n",
       "  </thead>\n",
       "  <tbody>\n",
       "    <tr>\n",
       "      <th>0</th>\n",
       "      <td>7/4/2017</td>\n",
       "      <td>2017-07-04</td>\n",
       "      <td>269.05</td>\n",
       "    </tr>\n",
       "    <tr>\n",
       "      <th>1</th>\n",
       "      <td>7/5/2017</td>\n",
       "      <td>2017-07-05</td>\n",
       "      <td>266.00</td>\n",
       "    </tr>\n",
       "    <tr>\n",
       "      <th>2</th>\n",
       "      <td>7/6/2017</td>\n",
       "      <td>2017-07-06</td>\n",
       "      <td>265.88</td>\n",
       "    </tr>\n",
       "    <tr>\n",
       "      <th>3</th>\n",
       "      <td>7/7/2017</td>\n",
       "      <td>2017-07-07</td>\n",
       "      <td>240.94</td>\n",
       "    </tr>\n",
       "    <tr>\n",
       "      <th>4</th>\n",
       "      <td>7/8/2017</td>\n",
       "      <td>2017-07-08</td>\n",
       "      <td>245.67</td>\n",
       "    </tr>\n",
       "  </tbody>\n",
       "</table>\n",
       "</div>"
      ],
      "text/plain": [
       "  Date(UTC) UnixTimeStamp   Value\n",
       "0  7/4/2017    2017-07-04  269.05\n",
       "1  7/5/2017    2017-07-05  266.00\n",
       "2  7/6/2017    2017-07-06  265.88\n",
       "3  7/7/2017    2017-07-07  240.94\n",
       "4  7/8/2017    2017-07-08  245.67"
      ]
     },
     "execution_count": 14,
     "metadata": {},
     "output_type": "execute_result"
    }
   ],
   "source": [
    "etherium.head()"
   ]
  },
  {
   "cell_type": "code",
   "execution_count": 15,
   "metadata": {},
   "outputs": [
    {
     "data": {
      "text/html": [
       "<div>\n",
       "<style>\n",
       "    .dataframe thead tr:only-child th {\n",
       "        text-align: right;\n",
       "    }\n",
       "\n",
       "    .dataframe thead th {\n",
       "        text-align: left;\n",
       "    }\n",
       "\n",
       "    .dataframe tbody tr th {\n",
       "        vertical-align: top;\n",
       "    }\n",
       "</style>\n",
       "<table border=\"1\" class=\"dataframe\">\n",
       "  <thead>\n",
       "    <tr style=\"text-align: right;\">\n",
       "      <th></th>\n",
       "      <th>Date(UTC)</th>\n",
       "      <th>UnixTimeStamp</th>\n",
       "      <th>Value</th>\n",
       "    </tr>\n",
       "  </thead>\n",
       "  <tbody>\n",
       "    <tr>\n",
       "      <th>181</th>\n",
       "      <td>1/4/2018</td>\n",
       "      <td>2018-01-04</td>\n",
       "      <td>944.83</td>\n",
       "    </tr>\n",
       "    <tr>\n",
       "      <th>182</th>\n",
       "      <td>1/5/2018</td>\n",
       "      <td>2018-01-05</td>\n",
       "      <td>967.13</td>\n",
       "    </tr>\n",
       "    <tr>\n",
       "      <th>183</th>\n",
       "      <td>1/6/2018</td>\n",
       "      <td>2018-01-06</td>\n",
       "      <td>1006.41</td>\n",
       "    </tr>\n",
       "    <tr>\n",
       "      <th>184</th>\n",
       "      <td>1/7/2018</td>\n",
       "      <td>2018-01-07</td>\n",
       "      <td>1117.75</td>\n",
       "    </tr>\n",
       "    <tr>\n",
       "      <th>185</th>\n",
       "      <td>1/8/2018</td>\n",
       "      <td>2018-01-08</td>\n",
       "      <td>1136.11</td>\n",
       "    </tr>\n",
       "  </tbody>\n",
       "</table>\n",
       "</div>"
      ],
      "text/plain": [
       "    Date(UTC) UnixTimeStamp    Value\n",
       "181  1/4/2018    2018-01-04   944.83\n",
       "182  1/5/2018    2018-01-05   967.13\n",
       "183  1/6/2018    2018-01-06  1006.41\n",
       "184  1/7/2018    2018-01-07  1117.75\n",
       "185  1/8/2018    2018-01-08  1136.11"
      ]
     },
     "execution_count": 15,
     "metadata": {},
     "output_type": "execute_result"
    }
   ],
   "source": [
    "etherium.tail()"
   ]
  },
  {
   "cell_type": "code",
   "execution_count": 16,
   "metadata": {},
   "outputs": [
    {
     "data": {
      "text/plain": [
       "<matplotlib.text.Text at 0x256ebdbeba8>"
      ]
     },
     "execution_count": 16,
     "metadata": {},
     "output_type": "execute_result"
    }
   ],
   "source": [
    "fig = plt.figure(figsize=[15, 7])\n",
    "plt.suptitle('Media de cambio del bitcoin con respecto al dólar', fontsize=22)"
   ]
  },
  {
   "cell_type": "code",
   "execution_count": 17,
   "metadata": {},
   "outputs": [
    {
     "data": {
      "text/plain": [
       "<matplotlib.legend.Legend at 0x256ec0e9198>"
      ]
     },
     "execution_count": 17,
     "metadata": {},
     "output_type": "execute_result"
    }
   ],
   "source": [
    "plt.subplot(221)\n",
    "plt.plot(bitcoin.Weighted_Price, '-', label='Por días')\n",
    "plt.legend()"
   ]
  },
  {
   "cell_type": "code",
   "execution_count": 18,
   "metadata": {},
   "outputs": [
    {
     "data": {
      "text/plain": [
       "<matplotlib.legend.Legend at 0x256ebe1ea58>"
      ]
     },
     "execution_count": 18,
     "metadata": {},
     "output_type": "execute_result"
    }
   ],
   "source": [
    "plt.subplot(222)\n",
    "plt.plot(bitcoin_month.Weighted_Price, '-', label='Por meses')\n",
    "plt.legend()"
   ]
  },
  {
   "cell_type": "code",
   "execution_count": 19,
   "metadata": {},
   "outputs": [
    {
     "data": {
      "image/png": "[encoded data removed]",
      "text/plain": [
       "<matplotlib.figure.Figure at 0x256ebdbe470>"
      ]
     },
     "metadata": {},
     "output_type": "display_data"
    }
   ],
   "source": [
    "plt.show()"
   ]
  },
  {
   "cell_type": "markdown",
   "metadata": {},
   "source": [
    "B) Ether:"
   ]
  },
  {
   "cell_type": "code",
   "execution_count": 20,
   "metadata": {
    "collapsed": true
   },
   "outputs": [],
   "source": [
    "etherium.index = etherium.UnixTimeStamp"
   ]
  },
  {
   "cell_type": "code",
   "execution_count": 21,
   "metadata": {},
   "outputs": [
    {
     "data": {
      "text/plain": [
       "<matplotlib.text.Text at 0x256ec118cc0>"
      ]
     },
     "execution_count": 21,
     "metadata": {},
     "output_type": "execute_result"
    }
   ],
   "source": [
    "fig = plt.figure(figsize=[15, 7])\n",
    "plt.suptitle('Media de cambio del ether con respecto al dólar', fontsize=22)"
   ]
  },
  {
   "cell_type": "code",
   "execution_count": 22,
   "metadata": {
    "collapsed": true
   },
   "outputs": [],
   "source": [
    "etherium = etherium.resample('D').mean()"
   ]
  },
  {
   "cell_type": "code",
   "execution_count": 23,
   "metadata": {
    "collapsed": true
   },
   "outputs": [],
   "source": [
    "etherium_month = etherium.resample('M').mean()\n",
    "etherium_year = etherium.resample('A-DEC').mean()"
   ]
  },
  {
   "cell_type": "code",
   "execution_count": 24,
   "metadata": {},
   "outputs": [
    {
     "data": {
      "text/plain": [
       "<matplotlib.legend.Legend at 0x256ebf1def0>"
      ]
     },
     "execution_count": 24,
     "metadata": {},
     "output_type": "execute_result"
    }
   ],
   "source": [
    "plt.subplot(221)\n",
    "plt.plot(etherium.Value, '-', label='Por días')\n",
    "plt.legend()"
   ]
  },
  {
   "cell_type": "code",
   "execution_count": 25,
   "metadata": {},
   "outputs": [
    {
     "data": {
      "text/plain": [
       "<matplotlib.legend.Legend at 0x256ebf8aba8>"
      ]
     },
     "execution_count": 25,
     "metadata": {},
     "output_type": "execute_result"
    }
   ],
   "source": [
    "plt.subplot(222)\n",
    "plt.plot(etherium_month.Value, '-', label='Por meses')\n",
    "plt.legend()"
   ]
  },
  {
   "cell_type": "code",
   "execution_count": 26,
   "metadata": {},
   "outputs": [
    {
     "data": {
      "image/png": "[encoded data removed]",
      "text/plain": [
       "<matplotlib.figure.Figure at 0x256ec118a20>"
      ]
     },
     "metadata": {},
     "output_type": "display_data"
    }
   ],
   "source": [
    "plt.show()"
   ]
  },
  {
   "cell_type": "markdown",
   "metadata": {},
   "source": [
    "## Análisis estadístico comparativo"
   ]
  },
  {
   "cell_type": "markdown",
   "metadata": {},
   "source": [
    "Después de haber visto que la cotización de bitcoin ha frenado su apreciación y que la del ether continúa su ascenso, le añadimos al dataset de la cotización del ether, la columna correspondiente a la del bitcoin para poder compararlas en un mismo dataset pasaremos a ver los principales parámetros estadísticos:"
   ]
  },
  {
   "cell_type": "code",
   "execution_count": 27,
   "metadata": {},
   "outputs": [
    {
     "data": {
      "text/html": [
       "<div>\n",
       "<style>\n",
       "    .dataframe thead tr:only-child th {\n",
       "        text-align: right;\n",
       "    }\n",
       "\n",
       "    .dataframe thead th {\n",
       "        text-align: left;\n",
       "    }\n",
       "\n",
       "    .dataframe tbody tr th {\n",
       "        vertical-align: top;\n",
       "    }\n",
       "</style>\n",
       "<table border=\"1\" class=\"dataframe\">\n",
       "  <thead>\n",
       "    <tr style=\"text-align: right;\">\n",
       "      <th></th>\n",
       "      <th>Value</th>\n",
       "      <th>Weighted_Price</th>\n",
       "    </tr>\n",
       "    <tr>\n",
       "      <th>UnixTimeStamp</th>\n",
       "      <th></th>\n",
       "      <th></th>\n",
       "    </tr>\n",
       "  </thead>\n",
       "  <tbody>\n",
       "    <tr>\n",
       "      <th>2017-07-04</th>\n",
       "      <td>269.05</td>\n",
       "      <td>292177.556681</td>\n",
       "    </tr>\n",
       "    <tr>\n",
       "      <th>2017-07-05</th>\n",
       "      <td>266.00</td>\n",
       "      <td>290562.675337</td>\n",
       "    </tr>\n",
       "    <tr>\n",
       "      <th>2017-07-06</th>\n",
       "      <td>265.88</td>\n",
       "      <td>293182.524481</td>\n",
       "    </tr>\n",
       "    <tr>\n",
       "      <th>2017-07-07</th>\n",
       "      <td>240.94</td>\n",
       "      <td>289683.612931</td>\n",
       "    </tr>\n",
       "    <tr>\n",
       "      <th>2017-07-08</th>\n",
       "      <td>245.67</td>\n",
       "      <td>289174.397839</td>\n",
       "    </tr>\n",
       "  </tbody>\n",
       "</table>\n",
       "</div>"
      ],
      "text/plain": [
       "                Value  Weighted_Price\n",
       "UnixTimeStamp                        \n",
       "2017-07-04     269.05   292177.556681\n",
       "2017-07-05     266.00   290562.675337\n",
       "2017-07-06     265.88   293182.524481\n",
       "2017-07-07     240.94   289683.612931\n",
       "2017-07-08     245.67   289174.397839"
      ]
     },
     "execution_count": 27,
     "metadata": {},
     "output_type": "execute_result"
    }
   ],
   "source": [
    "etherium[\"Weighted_Price\"] = bitcoin.Weighted_Price\n",
    "etherVSbitcoin = etherium\n",
    "etherVSbitcoin.head()"
   ]
  },
  {
   "cell_type": "code",
   "execution_count": 28,
   "metadata": {},
   "outputs": [
    {
     "data": {
      "text/html": [
       "<div>\n",
       "<style>\n",
       "    .dataframe thead tr:only-child th {\n",
       "        text-align: right;\n",
       "    }\n",
       "\n",
       "    .dataframe thead th {\n",
       "        text-align: left;\n",
       "    }\n",
       "\n",
       "    .dataframe tbody tr th {\n",
       "        vertical-align: top;\n",
       "    }\n",
       "</style>\n",
       "<table border=\"1\" class=\"dataframe\">\n",
       "  <thead>\n",
       "    <tr style=\"text-align: right;\">\n",
       "      <th></th>\n",
       "      <th>Value</th>\n",
       "      <th>Weighted_Price</th>\n",
       "    </tr>\n",
       "    <tr>\n",
       "      <th>UnixTimeStamp</th>\n",
       "      <th></th>\n",
       "      <th></th>\n",
       "    </tr>\n",
       "  </thead>\n",
       "  <tbody>\n",
       "    <tr>\n",
       "      <th>2018-01-04</th>\n",
       "      <td>944.83</td>\n",
       "      <td>1.795208e+06</td>\n",
       "    </tr>\n",
       "    <tr>\n",
       "      <th>2018-01-05</th>\n",
       "      <td>967.13</td>\n",
       "      <td>1.912520e+06</td>\n",
       "    </tr>\n",
       "    <tr>\n",
       "      <th>2018-01-06</th>\n",
       "      <td>1006.41</td>\n",
       "      <td>1.963315e+06</td>\n",
       "    </tr>\n",
       "    <tr>\n",
       "      <th>2018-01-07</th>\n",
       "      <td>1117.75</td>\n",
       "      <td>1.968303e+06</td>\n",
       "    </tr>\n",
       "    <tr>\n",
       "      <th>2018-01-08</th>\n",
       "      <td>1136.11</td>\n",
       "      <td>1.944380e+06</td>\n",
       "    </tr>\n",
       "  </tbody>\n",
       "</table>\n",
       "</div>"
      ],
      "text/plain": [
       "                 Value  Weighted_Price\n",
       "UnixTimeStamp                         \n",
       "2018-01-04      944.83    1.795208e+06\n",
       "2018-01-05      967.13    1.912520e+06\n",
       "2018-01-06     1006.41    1.963315e+06\n",
       "2018-01-07     1117.75    1.968303e+06\n",
       "2018-01-08     1136.11    1.944380e+06"
      ]
     },
     "execution_count": 28,
     "metadata": {},
     "output_type": "execute_result"
    }
   ],
   "source": [
    "etherVSbitcoin.tail()"
   ]
  },
  {
   "cell_type": "code",
   "execution_count": 29,
   "metadata": {},
   "outputs": [
    {
     "data": {
      "text/plain": [
       "count    1.870000e+02\n",
       "mean     7.835245e+05\n",
       "std      5.512872e+05\n",
       "min      2.193434e+05\n",
       "25%      4.209025e+05\n",
       "50%      5.154994e+05\n",
       "75%      9.148580e+05\n",
       "max      2.214359e+06\n",
       "Name: Weighted_Price, dtype: float64"
      ]
     },
     "execution_count": 29,
     "metadata": {},
     "output_type": "execute_result"
    }
   ],
   "source": [
    "etherVSbitcoin['Weighted_Price'].describe()"
   ]
  },
  {
   "cell_type": "code",
   "execution_count": 30,
   "metadata": {},
   "outputs": [
    {
     "data": {
      "text/plain": [
       "count     186.000000\n",
       "mean      377.774194\n",
       "std       193.217538\n",
       "min       155.420000\n",
       "25%       285.487500\n",
       "50%       303.870000\n",
       "75%       383.105000\n",
       "max      1136.110000\n",
       "Name: Value, dtype: float64"
      ]
     },
     "execution_count": 30,
     "metadata": {},
     "output_type": "execute_result"
    }
   ],
   "source": [
    "etherVSbitcoin['Value'].describe()"
   ]
  },
  {
   "cell_type": "markdown",
   "metadata": {},
   "source": [
    "Ahora pasamos a hacer una tabla comparativa porcentual entre unos valores y otros:"
   ]
  },
  {
   "cell_type": "code",
   "execution_count": 31,
   "metadata": {
    "collapsed": true
   },
   "outputs": [],
   "source": [
    "etherVSbitcoin[\"Compare\"]=((etherVSbitcoin['Value']*100)/etherVSbitcoin['Weighted_Price'])"
   ]
  },
  {
   "cell_type": "code",
   "execution_count": 32,
   "metadata": {},
   "outputs": [
    {
     "data": {
      "text/html": [
       "<div>\n",
       "<style>\n",
       "    .dataframe thead tr:only-child th {\n",
       "        text-align: right;\n",
       "    }\n",
       "\n",
       "    .dataframe thead th {\n",
       "        text-align: left;\n",
       "    }\n",
       "\n",
       "    .dataframe tbody tr th {\n",
       "        vertical-align: top;\n",
       "    }\n",
       "</style>\n",
       "<table border=\"1\" class=\"dataframe\">\n",
       "  <thead>\n",
       "    <tr style=\"text-align: right;\">\n",
       "      <th></th>\n",
       "      <th>Value</th>\n",
       "      <th>Weighted_Price</th>\n",
       "      <th>Compare</th>\n",
       "    </tr>\n",
       "    <tr>\n",
       "      <th>UnixTimeStamp</th>\n",
       "      <th></th>\n",
       "      <th></th>\n",
       "      <th></th>\n",
       "    </tr>\n",
       "  </thead>\n",
       "  <tbody>\n",
       "    <tr>\n",
       "      <th>2017-07-04</th>\n",
       "      <td>269.05</td>\n",
       "      <td>292177.556681</td>\n",
       "      <td>0.092084</td>\n",
       "    </tr>\n",
       "    <tr>\n",
       "      <th>2017-07-05</th>\n",
       "      <td>266.00</td>\n",
       "      <td>290562.675337</td>\n",
       "      <td>0.091547</td>\n",
       "    </tr>\n",
       "    <tr>\n",
       "      <th>2017-07-06</th>\n",
       "      <td>265.88</td>\n",
       "      <td>293182.524481</td>\n",
       "      <td>0.090688</td>\n",
       "    </tr>\n",
       "    <tr>\n",
       "      <th>2017-07-07</th>\n",
       "      <td>240.94</td>\n",
       "      <td>289683.612931</td>\n",
       "      <td>0.083174</td>\n",
       "    </tr>\n",
       "    <tr>\n",
       "      <th>2017-07-08</th>\n",
       "      <td>245.67</td>\n",
       "      <td>289174.397839</td>\n",
       "      <td>0.084956</td>\n",
       "    </tr>\n",
       "  </tbody>\n",
       "</table>\n",
       "</div>"
      ],
      "text/plain": [
       "                Value  Weighted_Price   Compare\n",
       "UnixTimeStamp                                  \n",
       "2017-07-04     269.05   292177.556681  0.092084\n",
       "2017-07-05     266.00   290562.675337  0.091547\n",
       "2017-07-06     265.88   293182.524481  0.090688\n",
       "2017-07-07     240.94   289683.612931  0.083174\n",
       "2017-07-08     245.67   289174.397839  0.084956"
      ]
     },
     "execution_count": 32,
     "metadata": {},
     "output_type": "execute_result"
    }
   ],
   "source": [
    "etherVSbitcoin.head()"
   ]
  },
  {
   "cell_type": "markdown",
   "metadata": {},
   "source": [
    "Como podemos comprobar, etherium ha tenido poco crecimiento frente a bitcoin siendo así que, en proporción:"
   ]
  },
  {
   "cell_type": "code",
   "execution_count": 33,
   "metadata": {
    "scrolled": true
   },
   "outputs": [
    {
     "name": "stdout",
     "output_type": "stream",
     "text": [
      "El crecimiento promedio de etherium en comparación con bitcoin ha sido del: 0.057325523042895996\n"
     ]
    }
   ],
   "source": [
    "Incremento = etherVSbitcoin[\"Compare\"].mean()\n",
    "print('El crecimiento promedio de etherium en comparación con bitcoin ha sido del:', Incremento)"
   ]
  },
  {
   "cell_type": "markdown",
   "metadata": {},
   "source": [
    "En el siguiente gráfico veremos representados mediante diagrama de cajas que en el caso de bitcoin tuvo los siguientes cuartiles:\n",
    "Q1 = 420902.5; Q2 = 515499.4; Q3 = 914858.0"
   ]
  },
  {
   "cell_type": "markdown",
   "metadata": {},
   "source": [
    "Y en el caso del ether:\n",
    "Q1 = 285.5; Q2 = 303.9; Q3 = 383.1"
   ]
  },
  {
   "cell_type": "code",
   "execution_count": 34,
   "metadata": {},
   "outputs": [
    {
     "data": {
      "image/png": "[encoded data removed]",
      "text/plain": [
       "<matplotlib.figure.Figure at 0x256ebf9d908>"
      ]
     },
     "metadata": {},
     "output_type": "display_data"
    }
   ],
   "source": [
    "fig = plt.figure(figsize=[15, 7])\n",
    "plt.suptitle('Diagramas de cajas', fontsize=22)\n",
    "plt.subplot(221)\n",
    "etherVSbitcoin.boxplot(['Weighted_Price'], vert=False)\n",
    "plt.subplot(222)\n",
    "etherVSbitcoin.boxplot(['Value'], vert=False)\n",
    "plt.show()"
   ]
  },
  {
   "cell_type": "markdown",
   "metadata": {},
   "source": [
    "## Conclusión final"
   ]
  },
  {
   "cell_type": "markdown",
   "metadata": {},
   "source": [
    "Por lo que podemos concluir que aunque el crecimiento promedio de etherium es menor en comparación con bitcoin, su fluctuación ha sido menor y al menos durante el último mes muestra una tendencia más alcista que la de bitcoin que parece que  su crecimiento se ha visto frenado."
   ]
  }
 ],
 "metadata": {
  "kernelspec": {
   "display_name": "Python 3",
   "language": "python",
   "name": "python3"
  },
  "language_info": {
   "codemirror_mode": {
    "name": "ipython",
    "version": 3
   },
   "file_extension": ".py",
   "mimetype": "text/x-python",
   "name": "python",
   "nbconvert_exporter": "python",
   "pygments_lexer": "ipython3",
   "version": "3.6.1"
  }
 },
 "nbformat": 4,
 "nbformat_minor": 2
}
